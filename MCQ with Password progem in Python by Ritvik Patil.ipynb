{
 "cells": [
  {
   "cell_type": "code",
   "execution_count": 7,
   "id": "57f61825-40f9-4cb5-ad04-3ac7b6e3c2ee",
   "metadata": {},
   "outputs": [
    {
     "name": "stdin",
     "output_type": "stream",
     "text": [
      "Enter password of your choice Rit@123\n",
      "Please enter your password r\n"
     ]
    },
    {
     "name": "stdout",
     "output_type": "stream",
     "text": [
      "Wrong Password. Try again...\n",
      "2 more trails left\n"
     ]
    },
    {
     "name": "stdin",
     "output_type": "stream",
     "text": [
      "Please enter your password r\n"
     ]
    },
    {
     "name": "stdout",
     "output_type": "stream",
     "text": [
      "Wrong Password. Try again...\n",
      "1 more trails left\n"
     ]
    },
    {
     "name": "stdin",
     "output_type": "stream",
     "text": [
      "Please enter your password Rit@123\n"
     ]
    },
    {
     "name": "stdout",
     "output_type": "stream",
     "text": [
      "\n",
      "                 1. Who invented Java Programming?\n",
      "                 1.) Guido van Rossum\n",
      "                 2.) James Gosling\n",
      "                 3.) Dennis Ritchie\n",
      "                 4.) Bjarne Stroustrup\n",
      "                 \n"
     ]
    },
    {
     "name": "stdin",
     "output_type": "stream",
     "text": [
      "Enter your answer- 1,2,3 or 4 2\n"
     ]
    },
    {
     "name": "stdout",
     "output_type": "stream",
     "text": [
      "Correct answer. Next Question...\n",
      "------------------------------\n",
      "\n",
      "                        2. Which component is used to compile, debug and execute the java program?\n",
      "                        1.) JRE\n",
      "                        2.) JIT\n",
      "                        3.) JDK\n",
      "                        4.) JVM\n",
      "                        \n"
     ]
    },
    {
     "name": "stdin",
     "output_type": "stream",
     "text": [
      "Enter your answer- 1,2,3 or 4 2\n"
     ]
    },
    {
     "name": "stdout",
     "output_type": "stream",
     "text": [
      "Correct answer. Continue...\n"
     ]
    }
   ],
   "source": [
    "password = input(\"Enter password of your choice\")\n",
    "user_input_pass = input(\"Please enter your password\")\n",
    "if user_input_pass == password:\n",
    "    print(\"\"\"\n",
    "         1. Who invented Java Programming?\n",
    "         1.) Guido van Rossum\n",
    "         2.) James Gosling\n",
    "         3.) Dennis Ritchie\n",
    "         4.) Bjarne Stroustrup\n",
    "         \"\"\")\n",
    "    choice = int(input(\"Enter your answer- 1,2,3 or 4\"))\n",
    "    if choice == 2:\n",
    "        print(\"Correct answer. Next Question...\")\n",
    "        print(\"-\"*30)\n",
    "        print(\"\"\"\n",
    "                2. Which component is used to compile, debug and execute the java program?\n",
    "                1.) JRE\n",
    "                2.) JIT\n",
    "                3.) JDK\n",
    "                4.) JVM\n",
    "                \"\"\")\n",
    "        choice = int(input(\"Enter your answer- 1,2,3 or 4\"))\n",
    "        if choice == 2:\n",
    "            print(\"Correct answer. Continue...\")\n",
    "        else:\n",
    "            print(\"Wrong answer. Try Next year\")\n",
    "    else:\n",
    "        print(\"Wrong answer. Try Next year\")\n",
    "else:\n",
    "    print(\"Wrong Password. Try again...\")\n",
    "    print(\"2 more trails left\")\n",
    "    user_input_pass = input(\"Please enter your password\")\n",
    "    if user_input_pass == password:\n",
    "        print(\"\"\"\n",
    "             1. Who invented Java Programming?\n",
    "             1.) Guido van Rossum\n",
    "             2.) James Gosling\n",
    "             3.) Dennis Ritchie\n",
    "             4.) Bjarne Stroustrup\n",
    "             \"\"\")\n",
    "        choice = int(input(\"Enter your answer- 1,2,3 or 4\"))\n",
    "        if choice == 2:\n",
    "            print(\"Correct answer. Next Question...\")\n",
    "            print(\"-\"*30)\n",
    "            print(\"\"\"\n",
    "                    2. Which component is used to compile, debug and execute the java program?\n",
    "                    1.) JRE\n",
    "                    2.) JIT\n",
    "                    3.) JDK\n",
    "                    4.) JVM\n",
    "                    \"\"\")\n",
    "            choice = int(input(\"Enter your answer- 1,2,3 or 4\"))\n",
    "            if choice == 2:\n",
    "                print(\"Correct answer. Continue...\")\n",
    "            else:\n",
    "                print(\"Wrong answer. Try Next year\")\n",
    "        else:\n",
    "            print(\"Wrong answer. Try Next year\")\n",
    "    else:\n",
    "        print(\"Wrong Password. Try again...\")\n",
    "        print(\"1 more trails left\")\n",
    "        user_input_pass = input(\"Please enter your password\")\n",
    "        if user_input_pass == password:\n",
    "            print(\"\"\"\n",
    "                 1. Who invented Java Programming?\n",
    "                 1.) Guido van Rossum\n",
    "                 2.) James Gosling\n",
    "                 3.) Dennis Ritchie\n",
    "                 4.) Bjarne Stroustrup\n",
    "                 \"\"\")\n",
    "            choice = int(input(\"Enter your answer- 1,2,3 or 4\"))\n",
    "            if choice == 2:\n",
    "                print(\"Correct answer. Next Question...\")\n",
    "                print(\"-\"*30)\n",
    "                print(\"\"\"\n",
    "                        2. Which component is used to compile, debug and execute the java program?\n",
    "                        1.) JRE\n",
    "                        2.) JIT\n",
    "                        3.) JDK\n",
    "                        4.) JVM\n",
    "                        \"\"\")\n",
    "                choice = int(input(\"Enter your answer- 1,2,3 or 4\"))\n",
    "                if choice == 2:\n",
    "                    print(\"Correct answer. Continue...\")\n",
    "                else:\n",
    "                    print(\"Wrong answer. Try Next year\")\n",
    "            else:\n",
    "                print(\"Wrong answer. Try Next year\")\n",
    "        else:\n",
    "            print(\"Wrong Password. Try again...\")\n",
    "            print(\"Last chance left\")\n",
    "            user_input_pass = input(\"Please enter your password\")\n",
    "            if user_input_pass == password:\n",
    "                print(\"\"\"\n",
    "                     1. Who invented Java Programming?\n",
    "                     1.) Guido van Rossum\n",
    "                     2.) James Gosling\n",
    "                     3.) Dennis Ritchie\n",
    "                     4.) Bjarne Stroustrup\n",
    "                     \"\"\")\n",
    "                choice = int(input(\"Enter your answer- 1,2,3 or 4\"))\n",
    "                if choice == 2:\n",
    "                    print(\"Correct answer. Next Question...\")\n",
    "                    print(\"-\"*30)\n",
    "                    print(\"\"\"\n",
    "                            2. Which component is used to compile, debug and execute the java program?\n",
    "                            1.) JRE\n",
    "                            2.) JIT\n",
    "                            3.) JDK\n",
    "                            4.) JVM\n",
    "                            \"\"\")\n",
    "                    choice = int(input(\"Enter your answer- 1,2,3 or 4\"))\n",
    "                    if choice == 2:\n",
    "                        print(\"Correct answer. Continue...\")\n",
    "                    else:\n",
    "                        print(\"Wrong answer. Try Next year\")\n",
    "                else:\n",
    "                    print(\"Wrong answer. Try Next year\")\n",
    "            else:\n",
    "                print(\"All attempts exhausted. Try again next year.\")"
   ]
  },
  {
   "cell_type": "code",
   "execution_count": null,
   "id": "2480ceb8-b384-42f2-a35b-1a325c3e8ba2",
   "metadata": {},
   "outputs": [],
   "source": []
  }
 ],
 "metadata": {
  "kernelspec": {
   "display_name": "Python [conda env:base] *",
   "language": "python",
   "name": "conda-base-py"
  },
  "language_info": {
   "codemirror_mode": {
    "name": "ipython",
    "version": 3
   },
   "file_extension": ".py",
   "mimetype": "text/x-python",
   "name": "python",
   "nbconvert_exporter": "python",
   "pygments_lexer": "ipython3",
   "version": "3.12.7"
  }
 },
 "nbformat": 4,
 "nbformat_minor": 5
}
